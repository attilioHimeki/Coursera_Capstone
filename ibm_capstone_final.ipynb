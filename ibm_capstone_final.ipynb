{
 "cells": [
  {
   "cell_type": "markdown",
   "metadata": {},
   "source": [
    "# IBM Capstone Project - Analysing Berlin boroughs"
   ]
  },
  {
   "cell_type": "markdown",
   "metadata": {},
   "source": [
    "## Introduction/Business Problem"
   ]
  },
  {
   "cell_type": "markdown",
   "metadata": {},
   "source": [
    "House prices in Berlin have gone up dramatically in the last few years. This presents a critical challenge for policy makers and the general population. One of the main culprit is often said to be short lets."
   ]
  },
  {
   "cell_type": "markdown",
   "metadata": {},
   "source": [
    "The purpose of this notebook is give an overview of all areas in Berlin, and finding out what factors are most relevant when determining a dramatic change in prices. This will help figuring out which area in Berlin may be most convenient to move in for a young professional and for other cohorts, and which area has the highest potential for return on investment for real estate purchase."
   ]
  },
  {
   "cell_type": "markdown",
   "metadata": {},
   "source": [
    "## Data"
   ]
  },
  {
   "cell_type": "markdown",
   "metadata": {},
   "source": [
    "I will be leveraging the Foursquare API to provide geolocation information about the different boroughs of Berlin."
   ]
  },
  {
   "cell_type": "markdown",
   "metadata": {},
   "source": [
    "For this analysys, we'll look at the difference in pricing for short lets in each area, and then correlate that with the venues and facilities available. AirBnb prices tend to affect house prices in a particular area, so this will be one of the data sources I will be using. InsideAirbnb provides a dataset of listings for Berlin, including prices, area, and type of listing."
   ]
  },
  {
   "cell_type": "markdown",
   "metadata": {},
   "source": [
    "The amount of venues in an area, especially restaurants and cafes, also tends to be an indicator of a popular area, as well as offices, tech companies. For this, I will be using the Foursquare datasets."
   ]
  },
  {
   "cell_type": "markdown",
   "metadata": {},
   "source": [
    "Proximity to public transport, availability of services and facilities and schools are also factors to be taken into account. This data will be retrieved using the Foursquare API."
   ]
  },
  {
   "cell_type": "markdown",
   "metadata": {},
   "source": [
    "### Neighborhoods"
   ]
  },
  {
   "cell_type": "markdown",
   "metadata": {},
   "source": [
    "Let's use data available at InsideAirbnb to create a table of all Berlin neighborhoods. I'll load this from the public URL and do some clean-up to remove empty rows and rename the columns. I'll then group neighbordhoods in the same borough."
   ]
  },
  {
   "cell_type": "code",
   "execution_count": 1,
   "metadata": {},
   "outputs": [],
   "source": [
    "import pandas as pd\n",
    "import numpy as np\n",
    "\n",
    "pd.set_option('precision', 2)\n",
    "\n",
    "neighURL = \"http://data.insideairbnb.com/germany/be/berlin/2019-07-11/visualisations/neighbourhoods.csv\"\n",
    "\n",
    "berlin_df = pd.read_csv(neighURL, skip_blank_lines=True)\n",
    "berlin_df.dropna(inplace=True)\n",
    "\n",
    "berlin_df.columns = ['Borough','Neighborhood']"
   ]
  },
  {
   "cell_type": "markdown",
   "metadata": {},
   "source": [
    "Let's then merge the neighborhoods from the same borough"
   ]
  },
  {
   "cell_type": "code",
   "execution_count": 2,
   "metadata": {},
   "outputs": [
    {
     "data": {
      "text/html": [
       "<div>\n",
       "<style scoped>\n",
       "    .dataframe tbody tr th:only-of-type {\n",
       "        vertical-align: middle;\n",
       "    }\n",
       "\n",
       "    .dataframe tbody tr th {\n",
       "        vertical-align: top;\n",
       "    }\n",
       "\n",
       "    .dataframe thead th {\n",
       "        text-align: right;\n",
       "    }\n",
       "</style>\n",
       "<table border=\"1\" class=\"dataframe\">\n",
       "  <thead>\n",
       "    <tr style=\"text-align: right;\">\n",
       "      <th></th>\n",
       "      <th>Borough</th>\n",
       "      <th>Neighborhood</th>\n",
       "    </tr>\n",
       "  </thead>\n",
       "  <tbody>\n",
       "    <tr>\n",
       "      <th>0</th>\n",
       "      <td>Charlottenburg-Wilm.</td>\n",
       "      <td>Barstraße,Charlottenburg Nord,Düsseldorfer Str...</td>\n",
       "    </tr>\n",
       "    <tr>\n",
       "      <th>1</th>\n",
       "      <td>Friedrichshain-Kreuzberg</td>\n",
       "      <td>Frankfurter Allee Nord,Frankfurter Allee Süd F...</td>\n",
       "    </tr>\n",
       "    <tr>\n",
       "      <th>2</th>\n",
       "      <td>Lichtenberg</td>\n",
       "      <td>Alt-Hohenschönhausen Nord,Alt-Hohenschönhausen...</td>\n",
       "    </tr>\n",
       "    <tr>\n",
       "      <th>3</th>\n",
       "      <td>Marzahn - Hellersdorf</td>\n",
       "      <td>Biesdorf,Hellersdorf-Nord,Hellersdorf-Ost,Hell...</td>\n",
       "    </tr>\n",
       "    <tr>\n",
       "      <th>4</th>\n",
       "      <td>Mitte</td>\n",
       "      <td>Alexanderplatz,Brunnenstr. Nord,Brunnenstr. Sü...</td>\n",
       "    </tr>\n",
       "    <tr>\n",
       "      <th>5</th>\n",
       "      <td>Neukölln</td>\n",
       "      <td>Britz,Buckow,Buckow Nord,Gropiusstadt,Köllnisc...</td>\n",
       "    </tr>\n",
       "    <tr>\n",
       "      <th>6</th>\n",
       "      <td>Pankow</td>\n",
       "      <td>Blankenburg/Heinersdorf/Märchenland,Blankenfel...</td>\n",
       "    </tr>\n",
       "    <tr>\n",
       "      <th>7</th>\n",
       "      <td>Reinickendorf</td>\n",
       "      <td>MV 1,MV 2,Nord 1,Nord 2,Ost 1,Ost 2,West 1,Wes...</td>\n",
       "    </tr>\n",
       "    <tr>\n",
       "      <th>8</th>\n",
       "      <td>Spandau</td>\n",
       "      <td>Brunsbütteler Damm,Falkenhagener Feld,Gatow / ...</td>\n",
       "    </tr>\n",
       "    <tr>\n",
       "      <th>9</th>\n",
       "      <td>Steglitz - Zehlendorf</td>\n",
       "      <td>Albrechtstr.,Drakestr.,Lankwitz,Ostpreußendamm...</td>\n",
       "    </tr>\n",
       "    <tr>\n",
       "      <th>10</th>\n",
       "      <td>Tempelhof - Schöneberg</td>\n",
       "      <td>Friedenau,Lichtenrade,Mariendorf,Marienfelde,S...</td>\n",
       "    </tr>\n",
       "    <tr>\n",
       "      <th>11</th>\n",
       "      <td>Treptow - Köpenick</td>\n",
       "      <td>Adlershof,Allende-Viertel,Altglienicke,Altstad...</td>\n",
       "    </tr>\n",
       "  </tbody>\n",
       "</table>\n",
       "</div>"
      ],
      "text/plain": [
       "                     Borough  \\\n",
       "0       Charlottenburg-Wilm.   \n",
       "1   Friedrichshain-Kreuzberg   \n",
       "2                Lichtenberg   \n",
       "3      Marzahn - Hellersdorf   \n",
       "4                      Mitte   \n",
       "5                   Neukölln   \n",
       "6                     Pankow   \n",
       "7              Reinickendorf   \n",
       "8                    Spandau   \n",
       "9      Steglitz - Zehlendorf   \n",
       "10    Tempelhof - Schöneberg   \n",
       "11        Treptow - Köpenick   \n",
       "\n",
       "                                         Neighborhood  \n",
       "0   Barstraße,Charlottenburg Nord,Düsseldorfer Str...  \n",
       "1   Frankfurter Allee Nord,Frankfurter Allee Süd F...  \n",
       "2   Alt-Hohenschönhausen Nord,Alt-Hohenschönhausen...  \n",
       "3   Biesdorf,Hellersdorf-Nord,Hellersdorf-Ost,Hell...  \n",
       "4   Alexanderplatz,Brunnenstr. Nord,Brunnenstr. Sü...  \n",
       "5   Britz,Buckow,Buckow Nord,Gropiusstadt,Köllnisc...  \n",
       "6   Blankenburg/Heinersdorf/Märchenland,Blankenfel...  \n",
       "7   MV 1,MV 2,Nord 1,Nord 2,Ost 1,Ost 2,West 1,Wes...  \n",
       "8   Brunsbütteler Damm,Falkenhagener Feld,Gatow / ...  \n",
       "9   Albrechtstr.,Drakestr.,Lankwitz,Ostpreußendamm...  \n",
       "10  Friedenau,Lichtenrade,Mariendorf,Marienfelde,S...  \n",
       "11  Adlershof,Allende-Viertel,Altglienicke,Altstad...  "
      ]
     },
     "execution_count": 2,
     "metadata": {},
     "output_type": "execute_result"
    }
   ],
   "source": [
    "berlin_df = berlin_df.groupby(['Borough'])['Neighborhood'].apply(lambda x: ','.join(x.astype(str))).reset_index()\n",
    "berlin_df"
   ]
  },
  {
   "cell_type": "markdown",
   "metadata": {},
   "source": [
    "### Airbnb Listings"
   ]
  },
  {
   "cell_type": "markdown",
   "metadata": {},
   "source": [
    "In the same way, we retrieve the listings data from InsideAirbnb and manipulate the data to make it more useful. In this case, I'll drop some columns as we don't need those pieces of information, and rename some columns for consistency."
   ]
  },
  {
   "cell_type": "code",
   "execution_count": 3,
   "metadata": {},
   "outputs": [],
   "source": [
    "listingsURL = \"http://data.insideairbnb.com/germany/be/berlin/2019-07-11/visualisations/listings.csv\"\n",
    "listings_df = pd.read_csv(listingsURL, skip_blank_lines=True)"
   ]
  },
  {
   "cell_type": "code",
   "execution_count": 4,
   "metadata": {},
   "outputs": [
    {
     "data": {
      "text/html": [
       "<div>\n",
       "<style scoped>\n",
       "    .dataframe tbody tr th:only-of-type {\n",
       "        vertical-align: middle;\n",
       "    }\n",
       "\n",
       "    .dataframe tbody tr th {\n",
       "        vertical-align: top;\n",
       "    }\n",
       "\n",
       "    .dataframe thead th {\n",
       "        text-align: right;\n",
       "    }\n",
       "</style>\n",
       "<table border=\"1\" class=\"dataframe\">\n",
       "  <thead>\n",
       "    <tr style=\"text-align: right;\">\n",
       "      <th></th>\n",
       "      <th>Borough</th>\n",
       "      <th>Neighborhood</th>\n",
       "      <th>latitude</th>\n",
       "      <th>longitude</th>\n",
       "      <th>room_type</th>\n",
       "      <th>price</th>\n",
       "    </tr>\n",
       "  </thead>\n",
       "  <tbody>\n",
       "    <tr>\n",
       "      <th>0</th>\n",
       "      <td>Mitte</td>\n",
       "      <td>Brunnenstr. Nord</td>\n",
       "      <td>52.54</td>\n",
       "      <td>13.40</td>\n",
       "      <td>Private room</td>\n",
       "      <td>21</td>\n",
       "    </tr>\n",
       "    <tr>\n",
       "      <th>1</th>\n",
       "      <td>Mitte</td>\n",
       "      <td>Brunnenstr. Süd</td>\n",
       "      <td>52.53</td>\n",
       "      <td>13.40</td>\n",
       "      <td>Entire home/apt</td>\n",
       "      <td>60</td>\n",
       "    </tr>\n",
       "    <tr>\n",
       "      <th>2</th>\n",
       "      <td>Pankow</td>\n",
       "      <td>Prenzlauer Berg Südwest</td>\n",
       "      <td>52.53</td>\n",
       "      <td>13.42</td>\n",
       "      <td>Entire home/apt</td>\n",
       "      <td>90</td>\n",
       "    </tr>\n",
       "    <tr>\n",
       "      <th>3</th>\n",
       "      <td>Tempelhof - Schöneberg</td>\n",
       "      <td>Schöneberg-Nord</td>\n",
       "      <td>52.50</td>\n",
       "      <td>13.35</td>\n",
       "      <td>Private room</td>\n",
       "      <td>28</td>\n",
       "    </tr>\n",
       "    <tr>\n",
       "      <th>4</th>\n",
       "      <td>Friedrichshain-Kreuzberg</td>\n",
       "      <td>Frankfurter Allee Süd FK</td>\n",
       "      <td>52.51</td>\n",
       "      <td>13.45</td>\n",
       "      <td>Entire home/apt</td>\n",
       "      <td>125</td>\n",
       "    </tr>\n",
       "  </tbody>\n",
       "</table>\n",
       "</div>"
      ],
      "text/plain": [
       "                    Borough              Neighborhood  latitude  longitude  \\\n",
       "0                     Mitte          Brunnenstr. Nord     52.54      13.40   \n",
       "1                     Mitte           Brunnenstr. Süd     52.53      13.40   \n",
       "2                    Pankow   Prenzlauer Berg Südwest     52.53      13.42   \n",
       "3    Tempelhof - Schöneberg           Schöneberg-Nord     52.50      13.35   \n",
       "4  Friedrichshain-Kreuzberg  Frankfurter Allee Süd FK     52.51      13.45   \n",
       "\n",
       "         room_type  price  \n",
       "0     Private room     21  \n",
       "1  Entire home/apt     60  \n",
       "2  Entire home/apt     90  \n",
       "3     Private room     28  \n",
       "4  Entire home/apt    125  "
      ]
     },
     "execution_count": 4,
     "metadata": {},
     "output_type": "execute_result"
    }
   ],
   "source": [
    "listings_df.drop(columns=['name','id','host_name', 'host_id', 'minimum_nights', 'number_of_reviews', 'last_review', 'reviews_per_month', 'calculated_host_listings_count', 'availability_365'], inplace=True)\n",
    "listings_df.rename(columns={\"neighbourhood_group\": \"Borough\", \"neighbourhood\": \"Neighborhood\"}, inplace=True)\n",
    "listings_df.head()"
   ]
  },
  {
   "cell_type": "markdown",
   "metadata": {},
   "source": [
    "Let's visualise Airbnb prices in Berlin:"
   ]
  },
  {
   "cell_type": "code",
   "execution_count": 5,
   "metadata": {},
   "outputs": [
    {
     "data": {
      "text/plain": [
       "count    24395.00\n",
       "mean        70.85\n",
       "std        214.40\n",
       "min          0.00\n",
       "25%         32.00\n",
       "50%         50.00\n",
       "75%         75.00\n",
       "max       9000.00\n",
       "Name: price, dtype: float64"
      ]
     },
     "execution_count": 5,
     "metadata": {},
     "output_type": "execute_result"
    }
   ],
   "source": [
    "listings_df['price'].describe()"
   ]
  },
  {
   "cell_type": "code",
   "execution_count": 7,
   "metadata": {},
   "outputs": [
    {
     "data": {
      "image/png": "[encoded data removed]",
      "text/plain": [
       "<Figure size 1440x144 with 1 Axes>"
      ]
     },
     "metadata": {
      "needs_background": "light"
     },
     "output_type": "display_data"
    }
   ],
   "source": [
    "import matplotlib.pyplot as plt\n",
    "\n",
    "plot = listings_df['price'].plot(kind='box', xlim=(0, 200), vert=False, figsize=(20,2));"
   ]
  },
  {
   "cell_type": "markdown",
   "metadata": {},
   "source": [
    "Let's now work on this data to get meaningful information. Let's add how many listings there are for each borough."
   ]
  },
  {
   "cell_type": "code",
   "execution_count": 8,
   "metadata": {},
   "outputs": [
    {
     "data": {
      "text/html": [
       "<div>\n",
       "<style scoped>\n",
       "    .dataframe tbody tr th:only-of-type {\n",
       "        vertical-align: middle;\n",
       "    }\n",
       "\n",
       "    .dataframe tbody tr th {\n",
       "        vertical-align: top;\n",
       "    }\n",
       "\n",
       "    .dataframe thead th {\n",
       "        text-align: right;\n",
       "    }\n",
       "</style>\n",
       "<table border=\"1\" class=\"dataframe\">\n",
       "  <thead>\n",
       "    <tr style=\"text-align: right;\">\n",
       "      <th></th>\n",
       "      <th>Borough</th>\n",
       "      <th>Listings</th>\n",
       "    </tr>\n",
       "  </thead>\n",
       "  <tbody>\n",
       "    <tr>\n",
       "      <th>0</th>\n",
       "      <td>Friedrichshain-Kreuzberg</td>\n",
       "      <td>5854</td>\n",
       "    </tr>\n",
       "    <tr>\n",
       "      <th>1</th>\n",
       "      <td>Mitte</td>\n",
       "      <td>5082</td>\n",
       "    </tr>\n",
       "    <tr>\n",
       "      <th>2</th>\n",
       "      <td>Pankow</td>\n",
       "      <td>3818</td>\n",
       "    </tr>\n",
       "    <tr>\n",
       "      <th>3</th>\n",
       "      <td>Neukölln</td>\n",
       "      <td>3753</td>\n",
       "    </tr>\n",
       "    <tr>\n",
       "      <th>4</th>\n",
       "      <td>Charlottenburg-Wilm.</td>\n",
       "      <td>1766</td>\n",
       "    </tr>\n",
       "    <tr>\n",
       "      <th>5</th>\n",
       "      <td>Tempelhof - Schöneberg</td>\n",
       "      <td>1610</td>\n",
       "    </tr>\n",
       "    <tr>\n",
       "      <th>6</th>\n",
       "      <td>Lichtenberg</td>\n",
       "      <td>792</td>\n",
       "    </tr>\n",
       "    <tr>\n",
       "      <th>7</th>\n",
       "      <td>Treptow - Köpenick</td>\n",
       "      <td>647</td>\n",
       "    </tr>\n",
       "    <tr>\n",
       "      <th>8</th>\n",
       "      <td>Steglitz - Zehlendorf</td>\n",
       "      <td>489</td>\n",
       "    </tr>\n",
       "    <tr>\n",
       "      <th>9</th>\n",
       "      <td>Reinickendorf</td>\n",
       "      <td>304</td>\n",
       "    </tr>\n",
       "    <tr>\n",
       "      <th>10</th>\n",
       "      <td>Marzahn - Hellersdorf</td>\n",
       "      <td>142</td>\n",
       "    </tr>\n",
       "    <tr>\n",
       "      <th>11</th>\n",
       "      <td>Spandau</td>\n",
       "      <td>138</td>\n",
       "    </tr>\n",
       "  </tbody>\n",
       "</table>\n",
       "</div>"
      ],
      "text/plain": [
       "                     Borough  Listings\n",
       "0   Friedrichshain-Kreuzberg      5854\n",
       "1                      Mitte      5082\n",
       "2                     Pankow      3818\n",
       "3                   Neukölln      3753\n",
       "4       Charlottenburg-Wilm.      1766\n",
       "5     Tempelhof - Schöneberg      1610\n",
       "6                Lichtenberg       792\n",
       "7         Treptow - Köpenick       647\n",
       "8      Steglitz - Zehlendorf       489\n",
       "9              Reinickendorf       304\n",
       "10     Marzahn - Hellersdorf       142\n",
       "11                   Spandau       138"
      ]
     },
     "execution_count": 8,
     "metadata": {},
     "output_type": "execute_result"
    }
   ],
   "source": [
    "listings_count = listings_df['Borough'].value_counts(dropna=False)\n",
    "listings_count = pd.DataFrame(listings_count.reset_index())\n",
    "listings_count.columns = ['Borough', 'Listings']\n",
    "listings_count"
   ]
  },
  {
   "cell_type": "code",
   "execution_count": 9,
   "metadata": {
    "scrolled": true
   },
   "outputs": [
    {
     "data": {
      "text/html": [
       "<div>\n",
       "<style scoped>\n",
       "    .dataframe tbody tr th:only-of-type {\n",
       "        vertical-align: middle;\n",
       "    }\n",
       "\n",
       "    .dataframe tbody tr th {\n",
       "        vertical-align: top;\n",
       "    }\n",
       "\n",
       "    .dataframe thead th {\n",
       "        text-align: right;\n",
       "    }\n",
       "</style>\n",
       "<table border=\"1\" class=\"dataframe\">\n",
       "  <thead>\n",
       "    <tr style=\"text-align: right;\">\n",
       "      <th></th>\n",
       "      <th>Borough</th>\n",
       "      <th>Neighborhood</th>\n",
       "      <th>Listings</th>\n",
       "    </tr>\n",
       "  </thead>\n",
       "  <tbody>\n",
       "    <tr>\n",
       "      <th>0</th>\n",
       "      <td>Charlottenburg-Wilm.</td>\n",
       "      <td>Barstraße,Charlottenburg Nord,Düsseldorfer Str...</td>\n",
       "      <td>1766</td>\n",
       "    </tr>\n",
       "    <tr>\n",
       "      <th>1</th>\n",
       "      <td>Friedrichshain-Kreuzberg</td>\n",
       "      <td>Frankfurter Allee Nord,Frankfurter Allee Süd F...</td>\n",
       "      <td>5854</td>\n",
       "    </tr>\n",
       "    <tr>\n",
       "      <th>2</th>\n",
       "      <td>Lichtenberg</td>\n",
       "      <td>Alt-Hohenschönhausen Nord,Alt-Hohenschönhausen...</td>\n",
       "      <td>792</td>\n",
       "    </tr>\n",
       "    <tr>\n",
       "      <th>3</th>\n",
       "      <td>Marzahn - Hellersdorf</td>\n",
       "      <td>Biesdorf,Hellersdorf-Nord,Hellersdorf-Ost,Hell...</td>\n",
       "      <td>142</td>\n",
       "    </tr>\n",
       "    <tr>\n",
       "      <th>4</th>\n",
       "      <td>Mitte</td>\n",
       "      <td>Alexanderplatz,Brunnenstr. Nord,Brunnenstr. Sü...</td>\n",
       "      <td>5082</td>\n",
       "    </tr>\n",
       "    <tr>\n",
       "      <th>5</th>\n",
       "      <td>Neukölln</td>\n",
       "      <td>Britz,Buckow,Buckow Nord,Gropiusstadt,Köllnisc...</td>\n",
       "      <td>3753</td>\n",
       "    </tr>\n",
       "    <tr>\n",
       "      <th>6</th>\n",
       "      <td>Pankow</td>\n",
       "      <td>Blankenburg/Heinersdorf/Märchenland,Blankenfel...</td>\n",
       "      <td>3818</td>\n",
       "    </tr>\n",
       "    <tr>\n",
       "      <th>7</th>\n",
       "      <td>Reinickendorf</td>\n",
       "      <td>MV 1,MV 2,Nord 1,Nord 2,Ost 1,Ost 2,West 1,Wes...</td>\n",
       "      <td>304</td>\n",
       "    </tr>\n",
       "    <tr>\n",
       "      <th>8</th>\n",
       "      <td>Spandau</td>\n",
       "      <td>Brunsbütteler Damm,Falkenhagener Feld,Gatow / ...</td>\n",
       "      <td>138</td>\n",
       "    </tr>\n",
       "    <tr>\n",
       "      <th>9</th>\n",
       "      <td>Steglitz - Zehlendorf</td>\n",
       "      <td>Albrechtstr.,Drakestr.,Lankwitz,Ostpreußendamm...</td>\n",
       "      <td>489</td>\n",
       "    </tr>\n",
       "    <tr>\n",
       "      <th>10</th>\n",
       "      <td>Tempelhof - Schöneberg</td>\n",
       "      <td>Friedenau,Lichtenrade,Mariendorf,Marienfelde,S...</td>\n",
       "      <td>1610</td>\n",
       "    </tr>\n",
       "    <tr>\n",
       "      <th>11</th>\n",
       "      <td>Treptow - Köpenick</td>\n",
       "      <td>Adlershof,Allende-Viertel,Altglienicke,Altstad...</td>\n",
       "      <td>647</td>\n",
       "    </tr>\n",
       "  </tbody>\n",
       "</table>\n",
       "</div>"
      ],
      "text/plain": [
       "                     Borough  \\\n",
       "0       Charlottenburg-Wilm.   \n",
       "1   Friedrichshain-Kreuzberg   \n",
       "2                Lichtenberg   \n",
       "3      Marzahn - Hellersdorf   \n",
       "4                      Mitte   \n",
       "5                   Neukölln   \n",
       "6                     Pankow   \n",
       "7              Reinickendorf   \n",
       "8                    Spandau   \n",
       "9      Steglitz - Zehlendorf   \n",
       "10    Tempelhof - Schöneberg   \n",
       "11        Treptow - Köpenick   \n",
       "\n",
       "                                         Neighborhood  Listings  \n",
       "0   Barstraße,Charlottenburg Nord,Düsseldorfer Str...      1766  \n",
       "1   Frankfurter Allee Nord,Frankfurter Allee Süd F...      5854  \n",
       "2   Alt-Hohenschönhausen Nord,Alt-Hohenschönhausen...       792  \n",
       "3   Biesdorf,Hellersdorf-Nord,Hellersdorf-Ost,Hell...       142  \n",
       "4   Alexanderplatz,Brunnenstr. Nord,Brunnenstr. Sü...      5082  \n",
       "5   Britz,Buckow,Buckow Nord,Gropiusstadt,Köllnisc...      3753  \n",
       "6   Blankenburg/Heinersdorf/Märchenland,Blankenfel...      3818  \n",
       "7   MV 1,MV 2,Nord 1,Nord 2,Ost 1,Ost 2,West 1,Wes...       304  \n",
       "8   Brunsbütteler Damm,Falkenhagener Feld,Gatow / ...       138  \n",
       "9   Albrechtstr.,Drakestr.,Lankwitz,Ostpreußendamm...       489  \n",
       "10  Friedenau,Lichtenrade,Mariendorf,Marienfelde,S...      1610  \n",
       "11  Adlershof,Allende-Viertel,Altglienicke,Altstad...       647  "
      ]
     },
     "execution_count": 9,
     "metadata": {},
     "output_type": "execute_result"
    }
   ],
   "source": [
    "berlin_df = pd.merge(berlin_df, listings_count, on='Borough')\n",
    "berlin_df"
   ]
  },
  {
   "cell_type": "markdown",
   "metadata": {},
   "source": [
    "And the average price per borough."
   ]
  },
  {
   "cell_type": "code",
   "execution_count": 10,
   "metadata": {},
   "outputs": [
    {
     "data": {
      "text/html": [
       "<div>\n",
       "<style scoped>\n",
       "    .dataframe tbody tr th:only-of-type {\n",
       "        vertical-align: middle;\n",
       "    }\n",
       "\n",
       "    .dataframe tbody tr th {\n",
       "        vertical-align: top;\n",
       "    }\n",
       "\n",
       "    .dataframe thead th {\n",
       "        text-align: right;\n",
       "    }\n",
       "</style>\n",
       "<table border=\"1\" class=\"dataframe\">\n",
       "  <thead>\n",
       "    <tr style=\"text-align: right;\">\n",
       "      <th></th>\n",
       "      <th>Borough</th>\n",
       "      <th>AveragePrice</th>\n",
       "    </tr>\n",
       "  </thead>\n",
       "  <tbody>\n",
       "    <tr>\n",
       "      <th>0</th>\n",
       "      <td>Charlottenburg-Wilm.</td>\n",
       "      <td>109.46</td>\n",
       "    </tr>\n",
       "    <tr>\n",
       "      <th>1</th>\n",
       "      <td>Friedrichshain-Kreuzberg</td>\n",
       "      <td>65.17</td>\n",
       "    </tr>\n",
       "    <tr>\n",
       "      <th>2</th>\n",
       "      <td>Lichtenberg</td>\n",
       "      <td>66.10</td>\n",
       "    </tr>\n",
       "    <tr>\n",
       "      <th>3</th>\n",
       "      <td>Marzahn - Hellersdorf</td>\n",
       "      <td>61.42</td>\n",
       "    </tr>\n",
       "    <tr>\n",
       "      <th>4</th>\n",
       "      <td>Mitte</td>\n",
       "      <td>75.46</td>\n",
       "    </tr>\n",
       "    <tr>\n",
       "      <th>5</th>\n",
       "      <td>Neukölln</td>\n",
       "      <td>49.19</td>\n",
       "    </tr>\n",
       "    <tr>\n",
       "      <th>6</th>\n",
       "      <td>Pankow</td>\n",
       "      <td>72.89</td>\n",
       "    </tr>\n",
       "    <tr>\n",
       "      <th>7</th>\n",
       "      <td>Reinickendorf</td>\n",
       "      <td>46.61</td>\n",
       "    </tr>\n",
       "    <tr>\n",
       "      <th>8</th>\n",
       "      <td>Spandau</td>\n",
       "      <td>59.83</td>\n",
       "    </tr>\n",
       "    <tr>\n",
       "      <th>9</th>\n",
       "      <td>Steglitz - Zehlendorf</td>\n",
       "      <td>60.36</td>\n",
       "    </tr>\n",
       "    <tr>\n",
       "      <th>10</th>\n",
       "      <td>Tempelhof - Schöneberg</td>\n",
       "      <td>97.66</td>\n",
       "    </tr>\n",
       "    <tr>\n",
       "      <th>11</th>\n",
       "      <td>Treptow - Köpenick</td>\n",
       "      <td>57.02</td>\n",
       "    </tr>\n",
       "  </tbody>\n",
       "</table>\n",
       "</div>"
      ],
      "text/plain": [
       "                     Borough  AveragePrice\n",
       "0       Charlottenburg-Wilm.        109.46\n",
       "1   Friedrichshain-Kreuzberg         65.17\n",
       "2                Lichtenberg         66.10\n",
       "3      Marzahn - Hellersdorf         61.42\n",
       "4                      Mitte         75.46\n",
       "5                   Neukölln         49.19\n",
       "6                     Pankow         72.89\n",
       "7              Reinickendorf         46.61\n",
       "8                    Spandau         59.83\n",
       "9      Steglitz - Zehlendorf         60.36\n",
       "10    Tempelhof - Schöneberg         97.66\n",
       "11        Treptow - Köpenick         57.02"
      ]
     },
     "execution_count": 10,
     "metadata": {},
     "output_type": "execute_result"
    }
   ],
   "source": [
    "mean_prices = listings_df.groupby('Borough')['price'].mean()\n",
    "mean_prices = pd.DataFrame(mean_prices.reset_index())\n",
    "mean_prices.columns = ['Borough', 'AveragePrice']\n",
    "mean_prices"
   ]
  },
  {
   "cell_type": "code",
   "execution_count": 11,
   "metadata": {},
   "outputs": [
    {
     "data": {
      "text/html": [
       "<div>\n",
       "<style scoped>\n",
       "    .dataframe tbody tr th:only-of-type {\n",
       "        vertical-align: middle;\n",
       "    }\n",
       "\n",
       "    .dataframe tbody tr th {\n",
       "        vertical-align: top;\n",
       "    }\n",
       "\n",
       "    .dataframe thead th {\n",
       "        text-align: right;\n",
       "    }\n",
       "</style>\n",
       "<table border=\"1\" class=\"dataframe\">\n",
       "  <thead>\n",
       "    <tr style=\"text-align: right;\">\n",
       "      <th></th>\n",
       "      <th>Borough</th>\n",
       "      <th>Neighborhood</th>\n",
       "      <th>Listings</th>\n",
       "      <th>AveragePrice</th>\n",
       "    </tr>\n",
       "  </thead>\n",
       "  <tbody>\n",
       "    <tr>\n",
       "      <th>0</th>\n",
       "      <td>Charlottenburg-Wilm.</td>\n",
       "      <td>Barstraße,Charlottenburg Nord,Düsseldorfer Str...</td>\n",
       "      <td>1766</td>\n",
       "      <td>109.46</td>\n",
       "    </tr>\n",
       "    <tr>\n",
       "      <th>1</th>\n",
       "      <td>Friedrichshain-Kreuzberg</td>\n",
       "      <td>Frankfurter Allee Nord,Frankfurter Allee Süd F...</td>\n",
       "      <td>5854</td>\n",
       "      <td>65.17</td>\n",
       "    </tr>\n",
       "    <tr>\n",
       "      <th>2</th>\n",
       "      <td>Lichtenberg</td>\n",
       "      <td>Alt-Hohenschönhausen Nord,Alt-Hohenschönhausen...</td>\n",
       "      <td>792</td>\n",
       "      <td>66.10</td>\n",
       "    </tr>\n",
       "    <tr>\n",
       "      <th>3</th>\n",
       "      <td>Marzahn - Hellersdorf</td>\n",
       "      <td>Biesdorf,Hellersdorf-Nord,Hellersdorf-Ost,Hell...</td>\n",
       "      <td>142</td>\n",
       "      <td>61.42</td>\n",
       "    </tr>\n",
       "    <tr>\n",
       "      <th>4</th>\n",
       "      <td>Mitte</td>\n",
       "      <td>Alexanderplatz,Brunnenstr. Nord,Brunnenstr. Sü...</td>\n",
       "      <td>5082</td>\n",
       "      <td>75.46</td>\n",
       "    </tr>\n",
       "    <tr>\n",
       "      <th>5</th>\n",
       "      <td>Neukölln</td>\n",
       "      <td>Britz,Buckow,Buckow Nord,Gropiusstadt,Köllnisc...</td>\n",
       "      <td>3753</td>\n",
       "      <td>49.19</td>\n",
       "    </tr>\n",
       "    <tr>\n",
       "      <th>6</th>\n",
       "      <td>Pankow</td>\n",
       "      <td>Blankenburg/Heinersdorf/Märchenland,Blankenfel...</td>\n",
       "      <td>3818</td>\n",
       "      <td>72.89</td>\n",
       "    </tr>\n",
       "    <tr>\n",
       "      <th>7</th>\n",
       "      <td>Reinickendorf</td>\n",
       "      <td>MV 1,MV 2,Nord 1,Nord 2,Ost 1,Ost 2,West 1,Wes...</td>\n",
       "      <td>304</td>\n",
       "      <td>46.61</td>\n",
       "    </tr>\n",
       "    <tr>\n",
       "      <th>8</th>\n",
       "      <td>Spandau</td>\n",
       "      <td>Brunsbütteler Damm,Falkenhagener Feld,Gatow / ...</td>\n",
       "      <td>138</td>\n",
       "      <td>59.83</td>\n",
       "    </tr>\n",
       "    <tr>\n",
       "      <th>9</th>\n",
       "      <td>Steglitz - Zehlendorf</td>\n",
       "      <td>Albrechtstr.,Drakestr.,Lankwitz,Ostpreußendamm...</td>\n",
       "      <td>489</td>\n",
       "      <td>60.36</td>\n",
       "    </tr>\n",
       "    <tr>\n",
       "      <th>10</th>\n",
       "      <td>Tempelhof - Schöneberg</td>\n",
       "      <td>Friedenau,Lichtenrade,Mariendorf,Marienfelde,S...</td>\n",
       "      <td>1610</td>\n",
       "      <td>97.66</td>\n",
       "    </tr>\n",
       "    <tr>\n",
       "      <th>11</th>\n",
       "      <td>Treptow - Köpenick</td>\n",
       "      <td>Adlershof,Allende-Viertel,Altglienicke,Altstad...</td>\n",
       "      <td>647</td>\n",
       "      <td>57.02</td>\n",
       "    </tr>\n",
       "  </tbody>\n",
       "</table>\n",
       "</div>"
      ],
      "text/plain": [
       "                     Borough  \\\n",
       "0       Charlottenburg-Wilm.   \n",
       "1   Friedrichshain-Kreuzberg   \n",
       "2                Lichtenberg   \n",
       "3      Marzahn - Hellersdorf   \n",
       "4                      Mitte   \n",
       "5                   Neukölln   \n",
       "6                     Pankow   \n",
       "7              Reinickendorf   \n",
       "8                    Spandau   \n",
       "9      Steglitz - Zehlendorf   \n",
       "10    Tempelhof - Schöneberg   \n",
       "11        Treptow - Köpenick   \n",
       "\n",
       "                                         Neighborhood  Listings  AveragePrice  \n",
       "0   Barstraße,Charlottenburg Nord,Düsseldorfer Str...      1766        109.46  \n",
       "1   Frankfurter Allee Nord,Frankfurter Allee Süd F...      5854         65.17  \n",
       "2   Alt-Hohenschönhausen Nord,Alt-Hohenschönhausen...       792         66.10  \n",
       "3   Biesdorf,Hellersdorf-Nord,Hellersdorf-Ost,Hell...       142         61.42  \n",
       "4   Alexanderplatz,Brunnenstr. Nord,Brunnenstr. Sü...      5082         75.46  \n",
       "5   Britz,Buckow,Buckow Nord,Gropiusstadt,Köllnisc...      3753         49.19  \n",
       "6   Blankenburg/Heinersdorf/Märchenland,Blankenfel...      3818         72.89  \n",
       "7   MV 1,MV 2,Nord 1,Nord 2,Ost 1,Ost 2,West 1,Wes...       304         46.61  \n",
       "8   Brunsbütteler Damm,Falkenhagener Feld,Gatow / ...       138         59.83  \n",
       "9   Albrechtstr.,Drakestr.,Lankwitz,Ostpreußendamm...       489         60.36  \n",
       "10  Friedenau,Lichtenrade,Mariendorf,Marienfelde,S...      1610         97.66  \n",
       "11  Adlershof,Allende-Viertel,Altglienicke,Altstad...       647         57.02  "
      ]
     },
     "execution_count": 11,
     "metadata": {},
     "output_type": "execute_result"
    }
   ],
   "source": [
    "berlin_df = pd.merge(berlin_df, mean_prices, on='Borough')\n",
    "berlin_df"
   ]
  },
  {
   "cell_type": "markdown",
   "metadata": {},
   "source": [
    "At this point, we can start visualising the data we retrieve to show some insights on the Berlin short-lets market."
   ]
  },
  {
   "cell_type": "code",
   "execution_count": 12,
   "metadata": {
    "scrolled": true
   },
   "outputs": [
    {
     "data": {
      "image/png": "[encoded data removed]",
      "text/plain": [
       "<Figure size 1440x432 with 1 Axes>"
      ]
     },
     "metadata": {
      "needs_background": "light"
     },
     "output_type": "display_data"
    }
   ],
   "source": [
    "ax = berlin_df.plot.bar(x='Borough', y='AveragePrice', rot=0,figsize=(20, 6), legend=True, fontsize=8)"
   ]
  },
  {
   "cell_type": "code",
   "execution_count": 13,
   "metadata": {},
   "outputs": [
    {
     "data": {
      "image/png": "[encoded data removed]",
      "text/plain": [
       "<Figure size 1440x432 with 1 Axes>"
      ]
     },
     "metadata": {
      "needs_background": "light"
     },
     "output_type": "display_data"
    }
   ],
   "source": [
    "ax = berlin_df.plot.bar(x='Borough', y='Listings', rot=0,figsize=(20, 6), legend=True, fontsize=8)"
   ]
  },
  {
   "cell_type": "markdown",
   "metadata": {},
   "source": [
    "## Methodology"
   ]
  },
  {
   "cell_type": "markdown",
   "metadata": {},
   "source": [
    "After retrieving geodata from the mentioned APIs, I will analyse each neighborhoods using various available data sources.\n",
    "\n",
    "First of all, I'll retrieve available Berlin areas from a dataset available at InsideAirbnb. Then, from the same website, I'll retrieve current listing data for Airbnb rentals to check how many listing are active in each neighborhood, and the average price. This should give a good indication on how attractive the area is, and the average price people can expect for a short rental.\n",
    "\n",
    "Another important factor will be public transport. From data publicly available at BVG and DB, we will check the average distance from the closest station, and the time it would take to reach the city center. As a city center I've selected the Stadtmitte U-Bahn station.\n",
    "\n",
    "Finally, we will check each area for venues availability, analysed for each cohort. Young professionals will be more interested in proximity to city center, cafes and restaurants, while families will value proximity to schools, healthcare providers and public parks."
   ]
  },
  {
   "cell_type": "markdown",
   "metadata": {},
   "source": [
    "## Analysis"
   ]
  },
  {
   "cell_type": "markdown",
   "metadata": {},
   "source": [
    "We can now create a Berlin map, using Folium. Let's import the required libraries."
   ]
  },
  {
   "cell_type": "code",
   "execution_count": 9,
   "metadata": {},
   "outputs": [
    {
     "name": "stdout",
     "output_type": "stream",
     "text": [
      "Collecting package metadata (current_repodata.json): done\n",
      "Solving environment: done\n",
      "\n",
      "# All requested packages already installed.\n",
      "\n",
      "Collecting package metadata (current_repodata.json): done\n",
      "Solving environment: done\n",
      "\n",
      "# All requested packages already installed.\n",
      "\n"
     ]
    }
   ],
   "source": [
    "!conda install -c conda-forge folium=0.5.0 --yes\n",
    "!conda install -c conda-forge geopy --yes"
   ]
  },
  {
   "cell_type": "code",
   "execution_count": 14,
   "metadata": {},
   "outputs": [],
   "source": [
    "import folium\n",
    "from folium import plugins\n",
    "from folium.plugins import HeatMap\n",
    "from geopy.geocoders import Nominatim"
   ]
  },
  {
   "cell_type": "markdown",
   "metadata": {},
   "source": [
    "We then use geopy to get the coordinates of Berlin."
   ]
  },
  {
   "cell_type": "code",
   "execution_count": 15,
   "metadata": {},
   "outputs": [
    {
     "name": "stdout",
     "output_type": "stream",
     "text": [
      "Berlin latitude 52.5170365 longitude 13.3888599\n"
     ]
    }
   ],
   "source": [
    "address = 'Berlin, Germany'\n",
    "\n",
    "geolocator = Nominatim(user_agent=\"berlin_search\")\n",
    "location = geolocator.geocode(address)\n",
    "latitude = location.latitude\n",
    "longitude = location.longitude\n",
    "\n",
    "print(\"Berlin latitude {} longitude {}\".format(latitude, longitude))"
   ]
  },
  {
   "cell_type": "markdown",
   "metadata": {},
   "source": [
    "Let's add the coordinates of each borough in our Berlin dataframe."
   ]
  },
  {
   "cell_type": "code",
   "execution_count": 17,
   "metadata": {},
   "outputs": [
    {
     "data": {
      "text/html": [
       "<div>\n",
       "<style scoped>\n",
       "    .dataframe tbody tr th:only-of-type {\n",
       "        vertical-align: middle;\n",
       "    }\n",
       "\n",
       "    .dataframe tbody tr th {\n",
       "        vertical-align: top;\n",
       "    }\n",
       "\n",
       "    .dataframe thead th {\n",
       "        text-align: right;\n",
       "    }\n",
       "</style>\n",
       "<table border=\"1\" class=\"dataframe\">\n",
       "  <thead>\n",
       "    <tr style=\"text-align: right;\">\n",
       "      <th></th>\n",
       "      <th>Borough</th>\n",
       "      <th>Neighborhood</th>\n",
       "      <th>Listings</th>\n",
       "      <th>AveragePrice</th>\n",
       "      <th>latitude</th>\n",
       "      <th>longitude</th>\n",
       "    </tr>\n",
       "  </thead>\n",
       "  <tbody>\n",
       "    <tr>\n",
       "      <th>0</th>\n",
       "      <td>Charlottenburg-Wilm.</td>\n",
       "      <td>Barstraße,Charlottenburg Nord,Düsseldorfer Str...</td>\n",
       "      <td>1766</td>\n",
       "      <td>109.46</td>\n",
       "      <td>52.52</td>\n",
       "      <td>13.31</td>\n",
       "    </tr>\n",
       "    <tr>\n",
       "      <th>1</th>\n",
       "      <td>Friedrichshain-Kreuzberg</td>\n",
       "      <td>Frankfurter Allee Nord,Frankfurter Allee Süd F...</td>\n",
       "      <td>5854</td>\n",
       "      <td>65.17</td>\n",
       "      <td>52.51</td>\n",
       "      <td>13.45</td>\n",
       "    </tr>\n",
       "    <tr>\n",
       "      <th>2</th>\n",
       "      <td>Lichtenberg</td>\n",
       "      <td>Alt-Hohenschönhausen Nord,Alt-Hohenschönhausen...</td>\n",
       "      <td>792</td>\n",
       "      <td>66.10</td>\n",
       "      <td>52.53</td>\n",
       "      <td>13.51</td>\n",
       "    </tr>\n",
       "    <tr>\n",
       "      <th>3</th>\n",
       "      <td>Marzahn - Hellersdorf</td>\n",
       "      <td>Biesdorf,Hellersdorf-Nord,Hellersdorf-Ost,Hell...</td>\n",
       "      <td>142</td>\n",
       "      <td>61.42</td>\n",
       "      <td>52.54</td>\n",
       "      <td>13.56</td>\n",
       "    </tr>\n",
       "    <tr>\n",
       "      <th>4</th>\n",
       "      <td>Mitte</td>\n",
       "      <td>Alexanderplatz,Brunnenstr. Nord,Brunnenstr. Sü...</td>\n",
       "      <td>5082</td>\n",
       "      <td>75.46</td>\n",
       "      <td>52.52</td>\n",
       "      <td>13.40</td>\n",
       "    </tr>\n",
       "    <tr>\n",
       "      <th>5</th>\n",
       "      <td>Neukölln</td>\n",
       "      <td>Britz,Buckow,Buckow Nord,Gropiusstadt,Köllnisc...</td>\n",
       "      <td>3753</td>\n",
       "      <td>49.19</td>\n",
       "      <td>52.48</td>\n",
       "      <td>13.44</td>\n",
       "    </tr>\n",
       "    <tr>\n",
       "      <th>6</th>\n",
       "      <td>Pankow</td>\n",
       "      <td>Blankenburg/Heinersdorf/Märchenland,Blankenfel...</td>\n",
       "      <td>3818</td>\n",
       "      <td>72.89</td>\n",
       "      <td>52.60</td>\n",
       "      <td>13.44</td>\n",
       "    </tr>\n",
       "    <tr>\n",
       "      <th>7</th>\n",
       "      <td>Reinickendorf</td>\n",
       "      <td>MV 1,MV 2,Nord 1,Nord 2,Ost 1,Ost 2,West 1,Wes...</td>\n",
       "      <td>304</td>\n",
       "      <td>46.61</td>\n",
       "      <td>52.60</td>\n",
       "      <td>13.30</td>\n",
       "    </tr>\n",
       "    <tr>\n",
       "      <th>8</th>\n",
       "      <td>Spandau</td>\n",
       "      <td>Brunsbütteler Damm,Falkenhagener Feld,Gatow / ...</td>\n",
       "      <td>138</td>\n",
       "      <td>59.83</td>\n",
       "      <td>52.52</td>\n",
       "      <td>13.20</td>\n",
       "    </tr>\n",
       "    <tr>\n",
       "      <th>9</th>\n",
       "      <td>Steglitz - Zehlendorf</td>\n",
       "      <td>Albrechtstr.,Drakestr.,Lankwitz,Ostpreußendamm...</td>\n",
       "      <td>489</td>\n",
       "      <td>60.36</td>\n",
       "      <td>52.46</td>\n",
       "      <td>13.32</td>\n",
       "    </tr>\n",
       "    <tr>\n",
       "      <th>10</th>\n",
       "      <td>Tempelhof - Schöneberg</td>\n",
       "      <td>Friedenau,Lichtenrade,Mariendorf,Marienfelde,S...</td>\n",
       "      <td>1610</td>\n",
       "      <td>97.66</td>\n",
       "      <td>52.46</td>\n",
       "      <td>13.39</td>\n",
       "    </tr>\n",
       "    <tr>\n",
       "      <th>11</th>\n",
       "      <td>Treptow - Köpenick</td>\n",
       "      <td>Adlershof,Allende-Viertel,Altglienicke,Altstad...</td>\n",
       "      <td>647</td>\n",
       "      <td>57.02</td>\n",
       "      <td>52.42</td>\n",
       "      <td>13.60</td>\n",
       "    </tr>\n",
       "  </tbody>\n",
       "</table>\n",
       "</div>"
      ],
      "text/plain": [
       "                     Borough  \\\n",
       "0       Charlottenburg-Wilm.   \n",
       "1   Friedrichshain-Kreuzberg   \n",
       "2                Lichtenberg   \n",
       "3      Marzahn - Hellersdorf   \n",
       "4                      Mitte   \n",
       "5                   Neukölln   \n",
       "6                     Pankow   \n",
       "7              Reinickendorf   \n",
       "8                    Spandau   \n",
       "9      Steglitz - Zehlendorf   \n",
       "10    Tempelhof - Schöneberg   \n",
       "11        Treptow - Köpenick   \n",
       "\n",
       "                                         Neighborhood  Listings  AveragePrice  \\\n",
       "0   Barstraße,Charlottenburg Nord,Düsseldorfer Str...      1766        109.46   \n",
       "1   Frankfurter Allee Nord,Frankfurter Allee Süd F...      5854         65.17   \n",
       "2   Alt-Hohenschönhausen Nord,Alt-Hohenschönhausen...       792         66.10   \n",
       "3   Biesdorf,Hellersdorf-Nord,Hellersdorf-Ost,Hell...       142         61.42   \n",
       "4   Alexanderplatz,Brunnenstr. Nord,Brunnenstr. Sü...      5082         75.46   \n",
       "5   Britz,Buckow,Buckow Nord,Gropiusstadt,Köllnisc...      3753         49.19   \n",
       "6   Blankenburg/Heinersdorf/Märchenland,Blankenfel...      3818         72.89   \n",
       "7   MV 1,MV 2,Nord 1,Nord 2,Ost 1,Ost 2,West 1,Wes...       304         46.61   \n",
       "8   Brunsbütteler Damm,Falkenhagener Feld,Gatow / ...       138         59.83   \n",
       "9   Albrechtstr.,Drakestr.,Lankwitz,Ostpreußendamm...       489         60.36   \n",
       "10  Friedenau,Lichtenrade,Mariendorf,Marienfelde,S...      1610         97.66   \n",
       "11  Adlershof,Allende-Viertel,Altglienicke,Altstad...       647         57.02   \n",
       "\n",
       "    latitude  longitude  \n",
       "0      52.52      13.31  \n",
       "1      52.51      13.45  \n",
       "2      52.53      13.51  \n",
       "3      52.54      13.56  \n",
       "4      52.52      13.40  \n",
       "5      52.48      13.44  \n",
       "6      52.60      13.44  \n",
       "7      52.60      13.30  \n",
       "8      52.52      13.20  \n",
       "9      52.46      13.32  \n",
       "10     52.46      13.39  \n",
       "11     52.42      13.60  "
      ]
     },
     "execution_count": 17,
     "metadata": {},
     "output_type": "execute_result"
    }
   ],
   "source": [
    "def get_address_lat(address):\n",
    "    location = geolocator.geocode(address)\n",
    "    return location.latitude\n",
    "\n",
    "def get_address_lon(address):\n",
    "    location = geolocator.geocode(address)\n",
    "    return location.longitude\n",
    "\n",
    "def build_address_string(borough):\n",
    "    boroughName = borough.split(\"-\")[0]\n",
    "    return boroughName + \", Berlin, Germany\"\n",
    "\n",
    "berlin_df['latitude'] = berlin_df.apply(lambda row: get_address_lat(build_address_string(row['Borough'])), axis=1)\n",
    "berlin_df['longitude'] = berlin_df.apply(lambda row: get_address_lon(build_address_string(row['Borough'])), axis=1)\n",
    "    \n",
    "berlin_df"
   ]
  },
  {
   "cell_type": "markdown",
   "metadata": {},
   "source": [
    "### Clustering"
   ]
  },
  {
   "cell_type": "markdown",
   "metadata": {},
   "source": [
    "Let's now divide Berlin neighborhoods in clusters, to better visualise the current short letting situation. For this, we will use K-means Clustering."
   ]
  },
  {
   "cell_type": "code",
   "execution_count": 18,
   "metadata": {},
   "outputs": [],
   "source": [
    "from sklearn.cluster import KMeans"
   ]
  },
  {
   "cell_type": "code",
   "execution_count": 19,
   "metadata": {},
   "outputs": [
    {
     "data": {
      "text/html": [
       "<div>\n",
       "<style scoped>\n",
       "    .dataframe tbody tr th:only-of-type {\n",
       "        vertical-align: middle;\n",
       "    }\n",
       "\n",
       "    .dataframe tbody tr th {\n",
       "        vertical-align: top;\n",
       "    }\n",
       "\n",
       "    .dataframe thead th {\n",
       "        text-align: right;\n",
       "    }\n",
       "</style>\n",
       "<table border=\"1\" class=\"dataframe\">\n",
       "  <thead>\n",
       "    <tr style=\"text-align: right;\">\n",
       "      <th></th>\n",
       "      <th>Listings</th>\n",
       "      <th>AveragePrice</th>\n",
       "    </tr>\n",
       "  </thead>\n",
       "  <tbody>\n",
       "    <tr>\n",
       "      <th>0</th>\n",
       "      <td>1766</td>\n",
       "      <td>109.46</td>\n",
       "    </tr>\n",
       "    <tr>\n",
       "      <th>1</th>\n",
       "      <td>5854</td>\n",
       "      <td>65.17</td>\n",
       "    </tr>\n",
       "    <tr>\n",
       "      <th>2</th>\n",
       "      <td>792</td>\n",
       "      <td>66.10</td>\n",
       "    </tr>\n",
       "    <tr>\n",
       "      <th>3</th>\n",
       "      <td>142</td>\n",
       "      <td>61.42</td>\n",
       "    </tr>\n",
       "    <tr>\n",
       "      <th>4</th>\n",
       "      <td>5082</td>\n",
       "      <td>75.46</td>\n",
       "    </tr>\n",
       "    <tr>\n",
       "      <th>5</th>\n",
       "      <td>3753</td>\n",
       "      <td>49.19</td>\n",
       "    </tr>\n",
       "    <tr>\n",
       "      <th>6</th>\n",
       "      <td>3818</td>\n",
       "      <td>72.89</td>\n",
       "    </tr>\n",
       "    <tr>\n",
       "      <th>7</th>\n",
       "      <td>304</td>\n",
       "      <td>46.61</td>\n",
       "    </tr>\n",
       "    <tr>\n",
       "      <th>8</th>\n",
       "      <td>138</td>\n",
       "      <td>59.83</td>\n",
       "    </tr>\n",
       "    <tr>\n",
       "      <th>9</th>\n",
       "      <td>489</td>\n",
       "      <td>60.36</td>\n",
       "    </tr>\n",
       "    <tr>\n",
       "      <th>10</th>\n",
       "      <td>1610</td>\n",
       "      <td>97.66</td>\n",
       "    </tr>\n",
       "    <tr>\n",
       "      <th>11</th>\n",
       "      <td>647</td>\n",
       "      <td>57.02</td>\n",
       "    </tr>\n",
       "  </tbody>\n",
       "</table>\n",
       "</div>"
      ],
      "text/plain": [
       "    Listings  AveragePrice\n",
       "0       1766        109.46\n",
       "1       5854         65.17\n",
       "2        792         66.10\n",
       "3        142         61.42\n",
       "4       5082         75.46\n",
       "5       3753         49.19\n",
       "6       3818         72.89\n",
       "7        304         46.61\n",
       "8        138         59.83\n",
       "9        489         60.36\n",
       "10      1610         97.66\n",
       "11       647         57.02"
      ]
     },
     "execution_count": 19,
     "metadata": {},
     "output_type": "execute_result"
    }
   ],
   "source": [
    "berlin_grouped = berlin_df.drop(columns=['Borough','Neighborhood','latitude','longitude'])\n",
    "berlin_grouped"
   ]
  },
  {
   "cell_type": "code",
   "execution_count": 20,
   "metadata": {},
   "outputs": [
    {
     "data": {
      "text/plain": [
       "array([0, 2, 0, 0, 2, 1, 1, 0, 0, 0], dtype=int32)"
      ]
     },
     "execution_count": 20,
     "metadata": {},
     "output_type": "execute_result"
    }
   ],
   "source": [
    "kclusters = 3\n",
    "kmeans = KMeans(n_clusters=kclusters, random_state=0).fit(berlin_grouped)\n",
    "kmeans.labels_[0:10] "
   ]
  },
  {
   "cell_type": "markdown",
   "metadata": {},
   "source": [
    "And add back the clusters label into our original Berlin dataframe."
   ]
  },
  {
   "cell_type": "code",
   "execution_count": 21,
   "metadata": {},
   "outputs": [
    {
     "data": {
      "text/html": [
       "<div>\n",
       "<style scoped>\n",
       "    .dataframe tbody tr th:only-of-type {\n",
       "        vertical-align: middle;\n",
       "    }\n",
       "\n",
       "    .dataframe tbody tr th {\n",
       "        vertical-align: top;\n",
       "    }\n",
       "\n",
       "    .dataframe thead th {\n",
       "        text-align: right;\n",
       "    }\n",
       "</style>\n",
       "<table border=\"1\" class=\"dataframe\">\n",
       "  <thead>\n",
       "    <tr style=\"text-align: right;\">\n",
       "      <th></th>\n",
       "      <th>Cluster Label</th>\n",
       "      <th>Borough</th>\n",
       "      <th>Neighborhood</th>\n",
       "      <th>Listings</th>\n",
       "      <th>AveragePrice</th>\n",
       "      <th>latitude</th>\n",
       "      <th>longitude</th>\n",
       "    </tr>\n",
       "  </thead>\n",
       "  <tbody>\n",
       "    <tr>\n",
       "      <th>0</th>\n",
       "      <td>0</td>\n",
       "      <td>Charlottenburg-Wilm.</td>\n",
       "      <td>Barstraße,Charlottenburg Nord,Düsseldorfer Str...</td>\n",
       "      <td>1766</td>\n",
       "      <td>109.46</td>\n",
       "      <td>52.52</td>\n",
       "      <td>13.31</td>\n",
       "    </tr>\n",
       "    <tr>\n",
       "      <th>1</th>\n",
       "      <td>2</td>\n",
       "      <td>Friedrichshain-Kreuzberg</td>\n",
       "      <td>Frankfurter Allee Nord,Frankfurter Allee Süd F...</td>\n",
       "      <td>5854</td>\n",
       "      <td>65.17</td>\n",
       "      <td>52.51</td>\n",
       "      <td>13.45</td>\n",
       "    </tr>\n",
       "    <tr>\n",
       "      <th>2</th>\n",
       "      <td>0</td>\n",
       "      <td>Lichtenberg</td>\n",
       "      <td>Alt-Hohenschönhausen Nord,Alt-Hohenschönhausen...</td>\n",
       "      <td>792</td>\n",
       "      <td>66.10</td>\n",
       "      <td>52.53</td>\n",
       "      <td>13.51</td>\n",
       "    </tr>\n",
       "    <tr>\n",
       "      <th>3</th>\n",
       "      <td>0</td>\n",
       "      <td>Marzahn - Hellersdorf</td>\n",
       "      <td>Biesdorf,Hellersdorf-Nord,Hellersdorf-Ost,Hell...</td>\n",
       "      <td>142</td>\n",
       "      <td>61.42</td>\n",
       "      <td>52.54</td>\n",
       "      <td>13.56</td>\n",
       "    </tr>\n",
       "    <tr>\n",
       "      <th>4</th>\n",
       "      <td>2</td>\n",
       "      <td>Mitte</td>\n",
       "      <td>Alexanderplatz,Brunnenstr. Nord,Brunnenstr. Sü...</td>\n",
       "      <td>5082</td>\n",
       "      <td>75.46</td>\n",
       "      <td>52.52</td>\n",
       "      <td>13.40</td>\n",
       "    </tr>\n",
       "    <tr>\n",
       "      <th>5</th>\n",
       "      <td>1</td>\n",
       "      <td>Neukölln</td>\n",
       "      <td>Britz,Buckow,Buckow Nord,Gropiusstadt,Köllnisc...</td>\n",
       "      <td>3753</td>\n",
       "      <td>49.19</td>\n",
       "      <td>52.48</td>\n",
       "      <td>13.44</td>\n",
       "    </tr>\n",
       "    <tr>\n",
       "      <th>6</th>\n",
       "      <td>1</td>\n",
       "      <td>Pankow</td>\n",
       "      <td>Blankenburg/Heinersdorf/Märchenland,Blankenfel...</td>\n",
       "      <td>3818</td>\n",
       "      <td>72.89</td>\n",
       "      <td>52.60</td>\n",
       "      <td>13.44</td>\n",
       "    </tr>\n",
       "    <tr>\n",
       "      <th>7</th>\n",
       "      <td>0</td>\n",
       "      <td>Reinickendorf</td>\n",
       "      <td>MV 1,MV 2,Nord 1,Nord 2,Ost 1,Ost 2,West 1,Wes...</td>\n",
       "      <td>304</td>\n",
       "      <td>46.61</td>\n",
       "      <td>52.60</td>\n",
       "      <td>13.30</td>\n",
       "    </tr>\n",
       "    <tr>\n",
       "      <th>8</th>\n",
       "      <td>0</td>\n",
       "      <td>Spandau</td>\n",
       "      <td>Brunsbütteler Damm,Falkenhagener Feld,Gatow / ...</td>\n",
       "      <td>138</td>\n",
       "      <td>59.83</td>\n",
       "      <td>52.52</td>\n",
       "      <td>13.20</td>\n",
       "    </tr>\n",
       "    <tr>\n",
       "      <th>9</th>\n",
       "      <td>0</td>\n",
       "      <td>Steglitz - Zehlendorf</td>\n",
       "      <td>Albrechtstr.,Drakestr.,Lankwitz,Ostpreußendamm...</td>\n",
       "      <td>489</td>\n",
       "      <td>60.36</td>\n",
       "      <td>52.46</td>\n",
       "      <td>13.32</td>\n",
       "    </tr>\n",
       "    <tr>\n",
       "      <th>10</th>\n",
       "      <td>0</td>\n",
       "      <td>Tempelhof - Schöneberg</td>\n",
       "      <td>Friedenau,Lichtenrade,Mariendorf,Marienfelde,S...</td>\n",
       "      <td>1610</td>\n",
       "      <td>97.66</td>\n",
       "      <td>52.46</td>\n",
       "      <td>13.39</td>\n",
       "    </tr>\n",
       "    <tr>\n",
       "      <th>11</th>\n",
       "      <td>0</td>\n",
       "      <td>Treptow - Köpenick</td>\n",
       "      <td>Adlershof,Allende-Viertel,Altglienicke,Altstad...</td>\n",
       "      <td>647</td>\n",
       "      <td>57.02</td>\n",
       "      <td>52.42</td>\n",
       "      <td>13.60</td>\n",
       "    </tr>\n",
       "  </tbody>\n",
       "</table>\n",
       "</div>"
      ],
      "text/plain": [
       "    Cluster Label                   Borough  \\\n",
       "0               0      Charlottenburg-Wilm.   \n",
       "1               2  Friedrichshain-Kreuzberg   \n",
       "2               0               Lichtenberg   \n",
       "3               0     Marzahn - Hellersdorf   \n",
       "4               2                     Mitte   \n",
       "5               1                  Neukölln   \n",
       "6               1                    Pankow   \n",
       "7               0             Reinickendorf   \n",
       "8               0                   Spandau   \n",
       "9               0     Steglitz - Zehlendorf   \n",
       "10              0    Tempelhof - Schöneberg   \n",
       "11              0        Treptow - Köpenick   \n",
       "\n",
       "                                         Neighborhood  Listings  AveragePrice  \\\n",
       "0   Barstraße,Charlottenburg Nord,Düsseldorfer Str...      1766        109.46   \n",
       "1   Frankfurter Allee Nord,Frankfurter Allee Süd F...      5854         65.17   \n",
       "2   Alt-Hohenschönhausen Nord,Alt-Hohenschönhausen...       792         66.10   \n",
       "3   Biesdorf,Hellersdorf-Nord,Hellersdorf-Ost,Hell...       142         61.42   \n",
       "4   Alexanderplatz,Brunnenstr. Nord,Brunnenstr. Sü...      5082         75.46   \n",
       "5   Britz,Buckow,Buckow Nord,Gropiusstadt,Köllnisc...      3753         49.19   \n",
       "6   Blankenburg/Heinersdorf/Märchenland,Blankenfel...      3818         72.89   \n",
       "7   MV 1,MV 2,Nord 1,Nord 2,Ost 1,Ost 2,West 1,Wes...       304         46.61   \n",
       "8   Brunsbütteler Damm,Falkenhagener Feld,Gatow / ...       138         59.83   \n",
       "9   Albrechtstr.,Drakestr.,Lankwitz,Ostpreußendamm...       489         60.36   \n",
       "10  Friedenau,Lichtenrade,Mariendorf,Marienfelde,S...      1610         97.66   \n",
       "11  Adlershof,Allende-Viertel,Altglienicke,Altstad...       647         57.02   \n",
       "\n",
       "    latitude  longitude  \n",
       "0      52.52      13.31  \n",
       "1      52.51      13.45  \n",
       "2      52.53      13.51  \n",
       "3      52.54      13.56  \n",
       "4      52.52      13.40  \n",
       "5      52.48      13.44  \n",
       "6      52.60      13.44  \n",
       "7      52.60      13.30  \n",
       "8      52.52      13.20  \n",
       "9      52.46      13.32  \n",
       "10     52.46      13.39  \n",
       "11     52.42      13.60  "
      ]
     },
     "execution_count": 21,
     "metadata": {},
     "output_type": "execute_result"
    }
   ],
   "source": [
    "berlin_df.insert(0, 'Cluster Label', kmeans.labels_)\n",
    "berlin_df"
   ]
  },
  {
   "cell_type": "markdown",
   "metadata": {},
   "source": [
    "Finally, let's create a Folium map showing the different clusters."
   ]
  },
  {
   "cell_type": "code",
   "execution_count": 22,
   "metadata": {},
   "outputs": [],
   "source": [
    "import matplotlib.cm as cm\n",
    "import matplotlib.colors as colors"
   ]
  },
  {
   "cell_type": "code",
   "execution_count": 23,
   "metadata": {},
   "outputs": [
    {
     "data": {
      "text/html": [
       "<div style=\"width:100%;\"><div style=\"position:relative;width:100%;height:0;padding-bottom:60%;\"><iframe src=\"data:text/html;charset=utf-8;base64,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\" style=\"position:absolute;width:100%;height:100%;left:0;top:0;border:none !important;\" allowfullscreen webkitallowfullscreen mozallowfullscreen></iframe></div></div>"
      ],
      "text/plain": [
       "<folium.folium.Map at 0x7f83d89e6a90>"
      ]
     },
     "execution_count": 23,
     "metadata": {},
     "output_type": "execute_result"
    }
   ],
   "source": [
    "map_berlin_clusters = folium.Map(location=[latitude, longitude], zoom_start=11)\n",
    "\n",
    "x = np.arange(kclusters)\n",
    "ys = [i + x + (i*x)**2 for i in range(kclusters)]\n",
    "colors_array = cm.rainbow(np.linspace(0, 1, len(ys)))\n",
    "rainbow = [colors.rgb2hex(i) for i in colors_array]\n",
    "\n",
    "markers_colors = []\n",
    "for lat, lon, neigh, bor, cluster in zip(berlin_df['latitude'], berlin_df['longitude'], berlin_df['Neighborhood'], berlin_df['Borough'], berlin_df['Cluster Label']):\n",
    "    label = folium.Popup(str(bor) + ' - Cluster ' + str(cluster), parse_html=True)\n",
    "    folium.CircleMarker(\n",
    "        [lat, lon],\n",
    "        radius=20,\n",
    "        popup=label,\n",
    "        color=rainbow[cluster-1],\n",
    "        fill=True,\n",
    "        fill_color=rainbow[cluster-1],\n",
    "        fill_opacity=0.7).add_to(map_berlin_clusters)\n",
    "       \n",
    "map_berlin_clusters"
   ]
  },
  {
   "cell_type": "markdown",
   "metadata": {},
   "source": [
    "### Facilities and venues"
   ]
  },
  {
   "cell_type": "markdown",
   "metadata": {},
   "source": [
    "Let's now use the Foursquare API to analyse each borough based on venues and facilities, and see if there is a correlation between higher prices and availability."
   ]
  },
  {
   "cell_type": "code",
   "execution_count": 24,
   "metadata": {},
   "outputs": [],
   "source": [
    "CLIENT_ID = 'U0WJDXRHR2M2LOHM43JPDV12GK0PA4B1V0LFNFL42UQ2N1NH'\n",
    "CLIENT_SECRET = 'DHIBQK11ZZSNTACZGKPXKTC5ELHTVEZDXA3WDXBQTS2ZG2ER'\n",
    "VERSION = '20190814'\n",
    "LIMIT = 50"
   ]
  },
  {
   "cell_type": "code",
   "execution_count": 25,
   "metadata": {},
   "outputs": [],
   "source": [
    "import requests\n",
    "\n",
    "ignoredCategories = ['River', 'Windmill']\n",
    "\n",
    "groupedCategories = {}\n",
    "groupedCategories['Restaurant'] = ['Restaurant', 'Burger Joint','Trattoria', 'Bistro', 'Noodle House','Steakhouse','Pizza','Taverna']\n",
    "groupedCategories['Café/Bar'] = ['Donut','Café', 'Bagel Shop','Breakfast Spot', 'Ice Cream Shop', 'Cafeteria', 'Coffee Shop', 'Pub', 'Bar', 'Nightclub', 'Beer Garden', 'Tea Room', 'Jazz Club','Lounge','Gaming Cafe','Gastropub']\n",
    "groupedCategories['Grocery'] = ['Supermarket','Grocery', 'Bakery', 'Market','Pie Shop','Pastry Shop', 'Gourmet Shop', 'Food & Drink Shop', 'Farmers Market','Beer Store','Wine Shop','Organic Grocery']\n",
    "groupedCategories['Arts/Culture/Entertainment'] = ['Theater','Museum','Art Gallery','Concert Hall','Music Venue','Opera House','Performing Arts Venue','Multiplex','Comedy Club','Monument','Church','Historic','Memorial']\n",
    "groupedCategories['Transport'] = ['Station','Harbor','Bus Stop','Bike Rental','Rental Car']\n",
    "groupedCategories['Imbiss'] = ['Sandwich','Hot Dog','Currywurst','Fried Chicken']\n",
    "groupedCategories['Nature'] = ['Nature','River', 'Lake','Garden','Park','Forest','Beach','Scenic','Mountain']\n",
    "groupedCategories['Other Stores'] = ['Sporting Goods','Pet Store','Drugstore', 'Toy','Outdoor','Furniture','Bookstore','Clothing','Record','Flower','Mobile Phone','Hardware', 'Big Box','Electronics','Baby Store','Cosmetics','Convenience','Candy Store','Adult']\n",
    "groupedCategories['Fitness'] = ['Gym', 'Yoga','Sauna','Climbing','Pool','Spa','Athletics']\n",
    "groupedCategories['Hospitality'] = ['Hotel', 'Hostel']\n",
    "\n",
    "\n",
    "def getNearbyVenues(name, lat, lng, radius=2000):\n",
    "    \n",
    "    venues_list=[]\n",
    "\n",
    "    url = 'https://api.foursquare.com/v2/venues/explore?&client_id={}&client_secret={}&v={}&ll={},{}&radius={}&limit={}'.format(\n",
    "        CLIENT_ID, \n",
    "        CLIENT_SECRET, \n",
    "        VERSION, \n",
    "        lat, \n",
    "        lng, \n",
    "        radius, \n",
    "        LIMIT)\n",
    "    \n",
    "    json = requests.get(url).json()\n",
    "    \n",
    "    exceeded = False\n",
    "    if 'errorType' in json['meta']:\n",
    "        exceeded = (json['meta']['errorType'] == 'quota_exceeded')\n",
    "        \n",
    "    if(exceeded == True):\n",
    "        print(\"Quota exceeded! No results returned for \" + name)\n",
    "        return None;\n",
    "    else:\n",
    "        results = json[\"response\"]['groups'][0]['items']\n",
    "\n",
    "        for v in results:\n",
    "            category = v['venue']['categories'][0]['name']\n",
    "            for g in groupedCategories.keys():\n",
    "                values = groupedCategories[g]\n",
    "                for val in values:\n",
    "                    if(val in category):\n",
    "                        v['venue']['categories'][0]['name'] = g  \n",
    "\n",
    "\n",
    "        venues_list.append([(\n",
    "            name, \n",
    "            lat, \n",
    "            lng, \n",
    "            v['venue']['name'], \n",
    "            v['venue']['location']['lat'], \n",
    "            v['venue']['location']['lng'],  \n",
    "            v['venue']['categories'][0]['name']) for v in results])\n",
    "\n",
    "        nearby_venues = pd.DataFrame([item for venue_list in venues_list for item in venue_list])\n",
    "        nearby_venues.columns = ['Neighbourhood', \n",
    "                      'NeighborhoodLatitude', \n",
    "                      'NeighborhoodLongitude', \n",
    "                      'Venue', \n",
    "                      'VenueLatitude', \n",
    "                      'VenueLongitude', \n",
    "                      'VenueCategory']\n",
    "\n",
    "        for i in ignoredCategories:\n",
    "            nearby_venues = nearby_venues[nearby_venues.VenueCategory != i]\n",
    "\n",
    "        return(nearby_venues)"
   ]
  },
  {
   "cell_type": "markdown",
   "metadata": {},
   "source": [
    "I'll then retrieve venues for each borough in Berlin, and then analyse what type of venues are more common in each area."
   ]
  },
  {
   "cell_type": "markdown",
   "metadata": {},
   "source": [
    "Let's now get a list of frequencies for the most common venues of each borough. I'll also clean up the data a bit, group the venues and compute their count, and sort by descending count."
   ]
  },
  {
   "cell_type": "code",
   "execution_count": 26,
   "metadata": {},
   "outputs": [],
   "source": [
    "venuesDict = {}\n",
    "\n",
    "for index,row in berlin_df.iterrows():\n",
    "    venues = getNearbyVenues(row['Borough'], row['latitude'], row['longitude'])\n",
    "    venues.drop(columns=['Venue','Neighbourhood','NeighborhoodLongitude','NeighborhoodLatitude','VenueLatitude','VenueLongitude'], inplace=True)\n",
    "    venues['count'] = venues.groupby('VenueCategory')['VenueCategory'].transform('count')\n",
    "    venues = venues.drop_duplicates().reset_index().drop(columns=['index'])\n",
    "    venues.sort_values(by=['count'], inplace=True, ascending=False)\n",
    "    venuesDict[index] = venues"
   ]
  },
  {
   "cell_type": "markdown",
   "metadata": {},
   "source": [
    "With the data now available, it's time to analyse each borough in details."
   ]
  },
  {
   "cell_type": "markdown",
   "metadata": {},
   "source": [
    "#### Charlottenburg-Wilm."
   ]
  },
  {
   "cell_type": "code",
   "execution_count": 27,
   "metadata": {},
   "outputs": [
    {
     "data": {
      "image/png": "[encoded data removed]",
      "text/plain": [
       "<Figure size 1440x432 with 1 Axes>"
      ]
     },
     "metadata": {
      "needs_background": "light"
     },
     "output_type": "display_data"
    }
   ],
   "source": [
    "ax = venuesDict[0].plot.bar(x='VenueCategory', y='count', rot=0,figsize=(20, 6), legend=True, fontsize=8)"
   ]
  },
  {
   "cell_type": "markdown",
   "metadata": {},
   "source": [
    "#### Friedrichshain-Kreuzberg"
   ]
  },
  {
   "cell_type": "code",
   "execution_count": 28,
   "metadata": {},
   "outputs": [
    {
     "data": {
      "image/png": "[encoded data removed]",
      "text/plain": [
       "<Figure size 1440x432 with 1 Axes>"
      ]
     },
     "metadata": {
      "needs_background": "light"
     },
     "output_type": "display_data"
    }
   ],
   "source": [
    "ax = venuesDict[1].plot.bar(x='VenueCategory', y='count', rot=0,figsize=(20, 6), legend=True, fontsize=8)"
   ]
  },
  {
   "cell_type": "markdown",
   "metadata": {},
   "source": [
    "#### Lichtenberg"
   ]
  },
  {
   "cell_type": "code",
   "execution_count": 29,
   "metadata": {},
   "outputs": [
    {
     "data": {
      "image/png": "[encoded data removed]",
      "text/plain": [
       "<Figure size 1440x432 with 1 Axes>"
      ]
     },
     "metadata": {
      "needs_background": "light"
     },
     "output_type": "display_data"
    }
   ],
   "source": [
    "ax = venuesDict[2].plot.bar(x='VenueCategory', y='count', rot=0,figsize=(20, 6), legend=True, fontsize=8)"
   ]
  },
  {
   "cell_type": "markdown",
   "metadata": {},
   "source": [
    "#### Marzahn - Hellersdorf"
   ]
  },
  {
   "cell_type": "code",
   "execution_count": 30,
   "metadata": {},
   "outputs": [
    {
     "data": {
      "image/png": "[encoded data removed]",
      "text/plain": [
       "<Figure size 1440x432 with 1 Axes>"
      ]
     },
     "metadata": {
      "needs_background": "light"
     },
     "output_type": "display_data"
    }
   ],
   "source": [
    "ax = venuesDict[3].plot.bar(x='VenueCategory', y='count', rot=0,figsize=(20, 6), legend=True, fontsize=8)"
   ]
  },
  {
   "cell_type": "markdown",
   "metadata": {},
   "source": [
    "#### Mitte"
   ]
  },
  {
   "cell_type": "code",
   "execution_count": 32,
   "metadata": {},
   "outputs": [
    {
     "data": {
      "text/plain": [
       "<matplotlib.axes._subplots.AxesSubplot at 0x7f83b872c6a0>"
      ]
     },
     "execution_count": 32,
     "metadata": {},
     "output_type": "execute_result"
    },
    {
     "data": {
      "image/png": "[encoded data removed]",
      "text/plain": [
       "<Figure size 1440x432 with 1 Axes>"
      ]
     },
     "metadata": {
      "needs_background": "light"
     },
     "output_type": "display_data"
    }
   ],
   "source": [
    "venuesDict[4].plot.bar(x='VenueCategory', y='count', rot=0,figsize=(20, 6), legend=True, fontsize=8)"
   ]
  },
  {
   "cell_type": "markdown",
   "metadata": {},
   "source": [
    "#### Neukölln"
   ]
  },
  {
   "cell_type": "code",
   "execution_count": 34,
   "metadata": {},
   "outputs": [
    {
     "data": {
      "text/plain": [
       "<matplotlib.axes._subplots.AxesSubplot at 0x7f83988f2f60>"
      ]
     },
     "execution_count": 34,
     "metadata": {},
     "output_type": "execute_result"
    },
    {
     "data": {
      "image/png": "[encoded data removed]",
      "text/plain": [
       "<Figure size 1440x432 with 1 Axes>"
      ]
     },
     "metadata": {
      "needs_background": "light"
     },
     "output_type": "display_data"
    }
   ],
   "source": [
    "venuesDict[5].plot.bar(x='VenueCategory', y='count', rot=0,figsize=(20, 6), legend=True, fontsize=8)"
   ]
  },
  {
   "cell_type": "markdown",
   "metadata": {},
   "source": [
    "#### Pankow"
   ]
  },
  {
   "cell_type": "code",
   "execution_count": 35,
   "metadata": {},
   "outputs": [
    {
     "data": {
      "text/plain": [
       "<matplotlib.axes._subplots.AxesSubplot at 0x7f839893cf28>"
      ]
     },
     "execution_count": 35,
     "metadata": {},
     "output_type": "execute_result"
    },
    {
     "data": {
      "image/png": "[encoded data removed]",
      "text/plain": [
       "<Figure size 1440x432 with 1 Axes>"
      ]
     },
     "metadata": {
      "needs_background": "light"
     },
     "output_type": "display_data"
    }
   ],
   "source": [
    "venuesDict[6].plot.bar(x='VenueCategory', y='count', rot=0,figsize=(20, 6), legend=True, fontsize=8)"
   ]
  },
  {
   "cell_type": "markdown",
   "metadata": {},
   "source": [
    "#### Reinickendorf"
   ]
  },
  {
   "cell_type": "code",
   "execution_count": 36,
   "metadata": {},
   "outputs": [
    {
     "data": {
      "text/plain": [
       "<matplotlib.axes._subplots.AxesSubplot at 0x7f83b8959b00>"
      ]
     },
     "execution_count": 36,
     "metadata": {},
     "output_type": "execute_result"
    },
    {
     "data": {
      "image/png": "[encoded data removed]",
      "text/plain": [
       "<Figure size 1440x432 with 1 Axes>"
      ]
     },
     "metadata": {
      "needs_background": "light"
     },
     "output_type": "display_data"
    }
   ],
   "source": [
    "venuesDict[7].plot.bar(x='VenueCategory', y='count', rot=0,figsize=(20, 6), legend=True, fontsize=8)"
   ]
  },
  {
   "cell_type": "markdown",
   "metadata": {},
   "source": [
    "#### Spandau"
   ]
  },
  {
   "cell_type": "code",
   "execution_count": 37,
   "metadata": {},
   "outputs": [
    {
     "data": {
      "text/plain": [
       "<matplotlib.axes._subplots.AxesSubplot at 0x7f8398905240>"
      ]
     },
     "execution_count": 37,
     "metadata": {},
     "output_type": "execute_result"
    },
    {
     "data": {
      "image/png": "[encoded data removed]",
      "text/plain": [
       "<Figure size 1440x432 with 1 Axes>"
      ]
     },
     "metadata": {
      "needs_background": "light"
     },
     "output_type": "display_data"
    }
   ],
   "source": [
    "venuesDict[8].plot.bar(x='VenueCategory', y='count', rot=0,figsize=(20, 6), legend=True, fontsize=8)"
   ]
  },
  {
   "cell_type": "markdown",
   "metadata": {},
   "source": [
    "#### Steglitz - Zehlendorf"
   ]
  },
  {
   "cell_type": "code",
   "execution_count": 38,
   "metadata": {},
   "outputs": [
    {
     "data": {
      "text/plain": [
       "<matplotlib.axes._subplots.AxesSubplot at 0x7f8398f6f2e8>"
      ]
     },
     "execution_count": 38,
     "metadata": {},
     "output_type": "execute_result"
    },
    {
     "data": {
      "image/png": "[encoded data removed]",
      "text/plain": [
       "<Figure size 1440x432 with 1 Axes>"
      ]
     },
     "metadata": {
      "needs_background": "light"
     },
     "output_type": "display_data"
    }
   ],
   "source": [
    "venuesDict[9].plot.bar(x='VenueCategory', y='count', rot=0,figsize=(20, 6), legend=True, fontsize=8)"
   ]
  },
  {
   "cell_type": "markdown",
   "metadata": {},
   "source": [
    "#### Tempelhof - Schöneberg"
   ]
  },
  {
   "cell_type": "code",
   "execution_count": 39,
   "metadata": {},
   "outputs": [
    {
     "data": {
      "text/plain": [
       "<matplotlib.axes._subplots.AxesSubplot at 0x7f83886d8198>"
      ]
     },
     "execution_count": 39,
     "metadata": {},
     "output_type": "execute_result"
    },
    {
     "data": {
      "image/png": "[encoded data removed]",
      "text/plain": [
       "<Figure size 1440x432 with 1 Axes>"
      ]
     },
     "metadata": {
      "needs_background": "light"
     },
     "output_type": "display_data"
    }
   ],
   "source": [
    "venuesDict[10].plot.bar(x='VenueCategory', y='count', rot=0,figsize=(20, 6), legend=True, fontsize=8)"
   ]
  },
  {
   "cell_type": "markdown",
   "metadata": {},
   "source": [
    "#### Treptow - Köpenick"
   ]
  },
  {
   "cell_type": "code",
   "execution_count": 40,
   "metadata": {},
   "outputs": [
    {
     "data": {
      "text/plain": [
       "<matplotlib.axes._subplots.AxesSubplot at 0x7f83a854e518>"
      ]
     },
     "execution_count": 40,
     "metadata": {},
     "output_type": "execute_result"
    },
    {
     "data": {
      "image/png": "[encoded data removed]",
      "text/plain": [
       "<Figure size 1440x432 with 1 Axes>"
      ]
     },
     "metadata": {
      "needs_background": "light"
     },
     "output_type": "display_data"
    }
   ],
   "source": [
    "venuesDict[11].plot.bar(x='VenueCategory', y='count', rot=0,figsize=(20, 6), legend=True, fontsize=8)"
   ]
  },
  {
   "cell_type": "markdown",
   "metadata": {},
   "source": [
    "## Results and Discussion"
   ]
  },
  {
   "cell_type": "markdown",
   "metadata": {},
   "source": [
    "After having analysed all boroughs in Berlin, we are now able to look at a clear picture of the short-letting prices, in relation to the venues and proximity to the city centre.\n",
    "\n",
    "Being directly in the centre, Mitte has the highest amount of short-lets, along with a prevalence of hotels, museums and restaurants. For this reason, it's not the best option for rentals.\n",
    "\n",
    "Boroughs such as Lichtenberg, Tempelhof - Schöneberg, Spandau, and Reinickendorf have a higher prevalence of Supermarkets, Restaurants, and other facilities that are more relevant for a residential area. In the same way, there are a low number of short-lettings in these areas. \n",
    "\n",
    "This is also shown by the Clustering results I have shown above. The boroughs just mentioned are all in Cluster 0, while Mitte is together with Friedrichshain-Kreuzberg in Cluster 2, being touristic areas with higher availability of short-lets."
   ]
  },
  {
   "cell_type": "markdown",
   "metadata": {},
   "source": [
    "## Conclusion"
   ]
  },
  {
   "cell_type": "markdown",
   "metadata": {},
   "source": [
    "Using the data available in this report, you will be able to have a better idea of the different areas of Berlin, in relation to the facilities and venues available. A stakeholder will then be able to pick an area depending on the personal interest and business, such as a residential, quiet area for a young family, or a more up-and-coming area for young professional with many cafes and bars."
   ]
  }
 ],
 "metadata": {
  "kernelspec": {
   "display_name": "Python 3",
   "language": "python",
   "name": "python3"
  },
  "language_info": {
   "codemirror_mode": {
    "name": "ipython",
    "version": 3
   },
   "file_extension": ".py",
   "mimetype": "text/x-python",
   "name": "python",
   "nbconvert_exporter": "python",
   "pygments_lexer": "ipython3",
   "version": "3.7.3"
  }
 },
 "nbformat": 4,
 "nbformat_minor": 4
}
