{
 "cells": [
  {
   "cell_type": "markdown",
   "metadata": {},
   "source": [
    "# Capstone Project Week 4 - House Prices in Berlin"
   ]
  },
  {
   "cell_type": "markdown",
   "metadata": {},
   "source": [
    "## Introduction/Business Problem"
   ]
  },
  {
   "cell_type": "markdown",
   "metadata": {},
   "source": [
    "House prices in Berlin have gone up dramatically in the last few years. This presents a critical challenge for policy makers and the general population."
   ]
  },
  {
   "cell_type": "markdown",
   "metadata": {},
   "source": [
    "The purpose of this notebook is finding out what factors are most relevant when determining a dramatic change in prices. \n",
    "This will help figuring out which area in Berlin may be most convenient to move in for a young professional and for other cohorts. "
   ]
  },
  {
   "cell_type": "markdown",
   "metadata": {},
   "source": [
    "We will also discover which area has the highest potential for return on investment for real estate purchase"
   ]
  },
  {
   "cell_type": "markdown",
   "metadata": {},
   "source": [
    "Finally, we will discover what area policy makers should focus on to ensure a certain price stability."
   ]
  },
  {
   "cell_type": "markdown",
   "metadata": {},
   "source": [
    "## Data"
   ]
  },
  {
   "cell_type": "markdown",
   "metadata": {},
   "source": [
    "I will be leveraging the Foursquare API to provide geolocation information about the different boroughs of Berlin, and their trend in prices.\n",
    "\n",
    "I will scrape publicly available data from the internet to provide an accurate description of the historical trend in prices, and the current situation."
   ]
  },
  {
   "cell_type": "markdown",
   "metadata": {},
   "source": [
    "AirBnb prices tend to affect house prices in a particular area, so this will be one of the data sources I will be using."
   ]
  },
  {
   "cell_type": "markdown",
   "metadata": {},
   "source": [
    "The amount of venues in an area, especially restaurants and cafes, also tends to be an indicator of a popular area, as well as offices, tech companies. For this, I will be using the Foursquare datasets."
   ]
  },
  {
   "cell_type": "markdown",
   "metadata": {},
   "source": [
    "Proximity to public transport, availability of services and facilities and schools are also factors to be taken into account. This data will be retrieved by the Berlin transport company (BVG) and from Foursquare."
   ]
  },
  {
   "cell_type": "markdown",
   "metadata": {},
   "source": [
    "Finally, crime rates are an important factor in analysing each area of the city. For this purpose, I will be using publicly available reports published by the Bundeskriminalamt (BKA, Federal Criminal Police Office)."
   ]
  }
 ],
 "metadata": {
  "kernelspec": {
   "display_name": "Python 3",
   "language": "python",
   "name": "python3"
  },
  "language_info": {
   "codemirror_mode": {
    "name": "ipython",
    "version": 3
   },
   "file_extension": ".py",
   "mimetype": "text/x-python",
   "name": "python",
   "nbconvert_exporter": "python",
   "pygments_lexer": "ipython3",
   "version": "3.7.3"
  }
 },
 "nbformat": 4,
 "nbformat_minor": 4
}
